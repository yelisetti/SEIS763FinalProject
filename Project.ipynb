{
 "cells": [
  {
   "cell_type": "markdown",
   "id": "b7d2d12c",
   "metadata": {},
   "source": [
    "## Marriage Trends in India"
   ]
  },
  {
   "cell_type": "code",
   "execution_count": null,
   "id": "8fe62af6",
   "metadata": {
    "ExecuteTime": {
     "end_time": "2025-04-17T16:49:09.553254Z",
     "start_time": "2025-04-17T16:49:09.527602Z"
    }
   },
   "outputs": [],
   "source": [
    "import pandas as pd\n",
    "import numpy as np\n",
    "from numpy.ma.core import arange\n",
    "from sklearn.preprocessing import LabelEncoder\n",
    "from sklearn.model_selection import train_test_split\n",
    "from sklearn.impute import SimpleImputer\n",
    "from sklearn.preprocessing import StandardScaler\n",
    "\n",
    "data = pd.read_csv('marriage_data_india.csv')\n",
    "display(data.head())"
   ]
  },
  {
   "cell_type": "code",
   "execution_count": null,
   "id": "67d73fcb",
   "metadata": {
    "ExecuteTime": {
     "end_time": "2025-04-17T16:49:09.577752Z",
     "start_time": "2025-04-17T16:49:09.561763Z"
    }
   },
   "outputs": [],
   "source": [
    "display(data.isna().sum())"
   ]
  },
  {
   "cell_type": "code",
   "execution_count": null,
   "id": "2525c799",
   "metadata": {},
   "outputs": [],
   "source": [
    "# List of categorical columns\n",
    "cat_cols = data.select_dtypes(include=['object']).columns.tolist()\n",
    "display(\"categorical_cols: \\n\", cat_cols)\n",
    "\n",
    "# List of numerical columns\n",
    "num_cols = data.select_dtypes(include=[np.number]).columns.tolist()\n",
    "display(\"numerical_cols: \\n\", num_cols)"
   ]
  },
  {
   "cell_type": "code",
   "execution_count": null,
   "id": "72863707",
   "metadata": {
    "ExecuteTime": {
     "end_time": "2025-04-17T16:49:09.646598Z",
     "start_time": "2025-04-17T16:49:09.635913Z"
    }
   },
   "outputs": [],
   "source": [
    "X = data.drop(columns=['ID','Divorce_Status'])\n",
    "y = data['Divorce_Status']\n",
    "\n",
    "X['Inter_Caste'] = X['Inter-Caste']\n",
    "X['Inter_Religion'] = X['Inter-Religion']\n",
    "X.drop(columns=['Inter-Caste','Inter-Religion'], inplace=True)"
   ]
  },
  {
   "cell_type": "code",
   "execution_count": null,
   "id": "db043d0c",
   "metadata": {
    "ExecuteTime": {
     "end_time": "2025-04-17T16:49:09.809996Z",
     "start_time": "2025-04-17T16:49:09.777730Z"
    }
   },
   "outputs": [],
   "source": [
    "categorical_cols = [\n",
    "    'Marriage_Type', \n",
    "    'Gender', \n",
    "    'Education_Level', \n",
    "    'Caste_Match', \n",
    "    'Religion', \n",
    "    'Parental_Approval', \n",
    "    'Urban_Rural', \n",
    "    'Dowry_Exchanged',\n",
    "    'Marital_Satisfaction', \n",
    "    'Income_Level',\n",
    "    'Spouse_Working', \n",
    "    'Inter_Caste', \n",
    "    'Inter_Religion']\n",
    "\n",
    "X = pd.get_dummies(X, columns=categorical_cols, drop_first=True)\n",
    "display(X.head())"
   ]
  },
  {
   "cell_type": "code",
   "execution_count": null,
   "id": "16886565",
   "metadata": {},
   "outputs": [],
   "source": [
    "le = LabelEncoder()\n",
    "y = le.fit_transform(y)"
   ]
  },
  {
   "cell_type": "code",
   "execution_count": null,
   "id": "38f71e67",
   "metadata": {
    "ExecuteTime": {
     "end_time": "2025-04-17T16:49:09.922663Z",
     "start_time": "2025-04-17T16:49:09.880673Z"
    }
   },
   "outputs": [],
   "source": [
    "from imblearn.over_sampling import SMOTE\n",
    "smote_obj = SMOTE()\n",
    "X_new, y_new = smote_obj.fit_resample(X, y)"
   ]
  },
  {
   "cell_type": "code",
   "execution_count": null,
   "id": "c3d843d2",
   "metadata": {
    "ExecuteTime": {
     "end_time": "2025-04-17T16:49:10.500670Z",
     "start_time": "2025-04-17T16:49:09.977317Z"
    }
   },
   "outputs": [],
   "source": [
    "import statsmodels.api as sm\n",
    "\n",
    "def backwardElimination(x, y, sl):\n",
    "    numVars = len(x[0])\n",
    "    indices = list(range(numVars))\n",
    "    for i in range(0, numVars):\n",
    "        obj_OLS = sm.OLS(y, x).fit()\n",
    "        maxVar = max(obj_OLS.pvalues).astype(float)\n",
    "        if maxVar > sl:\n",
    "            for j in range(0, len(indices)):\n",
    "                if (obj_OLS.pvalues[j].astype(float) == maxVar):\n",
    "                    x = np.delete(x, j, 1)\n",
    "                    indices.pop(j)\n",
    "                    break\n",
    "    display(obj_OLS.summary())\n",
    "    return x, indices      \n",
    "\n",
    "SL = 0.05\n",
    "X_backe = np.append(arr=np.ones((len(X_new),1)), values=X_new, axis=1)\n",
    "X_backe = X_backe.astype('float64')\n",
    "X_sig = X_backe\n",
    "X_Modeled, indices = backwardElimination(X_sig, y_new, SL)\n",
    "display(X_Modeled)\n",
    "display(indices)"
   ]
  },
  {
   "cell_type": "code",
   "execution_count": null,
   "id": "51dfe365",
   "metadata": {
    "ExecuteTime": {
     "end_time": "2025-04-17T16:49:10.554129Z",
     "start_time": "2025-04-17T16:49:10.541953Z"
    }
   },
   "outputs": [],
   "source": [
    "X_train_smote, X_test_smote, y_train_smote, y_test_smote = train_test_split(X_new, y_new, test_size=.6, random_state=42, stratify=y_new)"
   ]
  },
  {
   "cell_type": "code",
   "execution_count": null,
   "id": "c6a77b12",
   "metadata": {
    "ExecuteTime": {
     "end_time": "2025-04-17T16:49:10.625571Z",
     "start_time": "2025-04-17T16:49:10.597011Z"
    }
   },
   "outputs": [],
   "source": [
    "scaler_cols = ['Age_at_Marriage', 'Children_Count', 'Years_Since_Marriage']\n",
    "scaler = StandardScaler()\n",
    "\n",
    "X_train_smote[scaler_cols] = scaler.fit_transform(X_train_smote[scaler_cols])\n",
    "X_train_smote[scaler_cols] = scaler.transform(X_train_smote[scaler_cols])\n",
    "\n",
    "display(X_train_smote.head())\n",
    "display(X_train_smote.head())"
   ]
  },
  {
   "cell_type": "code",
   "execution_count": null,
   "id": "95a06cfb",
   "metadata": {
    "ExecuteTime": {
     "end_time": "2025-04-17T16:49:10.696232Z",
     "start_time": "2025-04-17T16:49:10.673392Z"
    }
   },
   "outputs": [],
   "source": [
    "display(X_train_smote)"
   ]
  },
  {
   "cell_type": "code",
   "execution_count": null,
   "id": "258512c2",
   "metadata": {
    "ExecuteTime": {
     "end_time": "2025-04-17T16:49:11.099467Z",
     "start_time": "2025-04-17T16:49:10.934533Z"
    }
   },
   "outputs": [],
   "source": [
    "#Fitting Logistic Regression to Training Set\n",
    "from sklearn.linear_model import LogisticRegression\n",
    "from sklearn.metrics import accuracy_score\n",
    "\n",
    "\n",
    "classifierObj = LogisticRegression()\n",
    "classifierObj.fit(X_train_smote, y_train_smote)\n",
    "#Making predictions on the Test Set\n",
    "y_pred = classifierObj.predict(X_test_smote)\n",
    "print(y_pred)\n",
    "#Predicting probabilities\n",
    "y_pred_prob = classifierObj.predict_proba(X_test_smote)\n",
    "#Print Model Accuracy\n",
    "print(classifierObj.score(X_test_smote,y_test_smote))"
   ]
  },
  {
   "cell_type": "code",
   "execution_count": null,
   "id": "f2fb7d2d",
   "metadata": {},
   "outputs": [],
   "source": [
    "#Testing different test sizes vs. accuracy for Logistic Regression\n",
    "\n",
    "accuracy_scores = []\n",
    "for i in arange(0.1, 1.0, 0.1):\n",
    "    X_train_smote, X_test_smote, y_train_smote, y_test_smote = train_test_split(X_new, y_new, test_size=i, random_state=42, stratify=y_new)\n",
    "\n",
    "    scaler_cols = ['Age_at_Marriage', 'Children_Count', 'Years_Since_Marriage']\n",
    "    scaler = StandardScaler()\n",
    "\n",
    "    X_train_smote[scaler_cols] = scaler.fit_transform(X_train_smote[scaler_cols])\n",
    "    X_train_smote[scaler_cols] = scaler.transform(X_train_smote[scaler_cols])   \n",
    "\n",
    "    classifierObj = LogisticRegression()\n",
    "    classifierObj.fit(X_train_smote, y_train_smote)\n",
    "\n",
    "    #Making predictions on the Test Set\n",
    "    y_pred = classifierObj.predict(X_test_smote)\n",
    "    #Print Model Accuracy\n",
    "    accuracy_scores.append(classifierObj.score(X_test_smote,y_test_smote))\n",
    " \n",
    "#graph i vs accuracy\n",
    "import matplotlib.pyplot as plt\n",
    "plt.figure(figsize=(10, 6))\n",
    "plt.plot(arange(0.1, 1.0, 0.1), accuracy_scores, marker='o')\n",
    "plt.title('Test Size vs Logistic Accuracy')\n",
    "plt.xlabel('Test Size')\n",
    "plt.ylabel('Logistic Accuracy')\n",
    "plt.xticks(arange(0, 1, .1))\n",
    "plt.yticks(arange(0, 1, .1))\n",
    "plt.grid()"
   ]
  },
  {
   "cell_type": "code",
   "execution_count": null,
   "id": "5831989e2ae00a38",
   "metadata": {
    "ExecuteTime": {
     "end_time": "2025-04-17T01:40:07.950678Z",
     "start_time": "2025-04-17T01:40:07.901924Z"
    }
   },
   "outputs": [],
   "source": [
    "# #Applying PCA\n",
    "# from sklearn.decomposition import PCA\n",
    "# from sklearn.linear_model import LogisticRegression\n",
    "# from sklearn.metrics import confusion_matrix\n",
    "\n",
    "# pcaObj = PCA(n_components=2)\n",
    "# X_train_pca = pcaObj.fit_transform(X_new)\n",
    "# X_test_pca = pcaObj.transform(X_test_smote)\n",
    "# components_variance = pcaObj.explained_variance_ratio_\n",
    "# print(components_variance)\n",
    "# #Fitting Logistic Regression to Training Set\n",
    "# classifierObj = LogisticRegression(random_state=0)\n",
    "# classifierObj.fit(X_train_pca, y_train_smote)\n",
    "# #Making predictions on the Test Set\n",
    "# y_pred = classifierObj.predict(X_test_pca)\n",
    "# #Evaluating the predictions using a Confusion Matrix\n",
    "# cm = confusion_matrix(y_test_smote, y_pred)\n",
    "# print(cm)\n",
    "\n",
    "\n",
    "# # Visualizing the Training set results\n",
    "# from matplotlib.colors import ListedColormap\n",
    "# import matplotlib.pyplot as plt\n",
    "#\n",
    "# X_set, y_set = X_train_smote, y_train_smote\n",
    "# X1, X2 = np.meshgrid(np.arange(start = X_set[:, 0].min() - 1, stop = X_set[:, 0].max() + 1, step = 0.01),\n",
    "#                      np.arange(start = X_set[:, 1].min() - 1, stop = X_set[:, 1].max() + 1, step = 0.01))\n",
    "# cmap = ListedColormap(['red', 'blue', 'brown'])\n",
    "# plt.contourf(X1, X2, classifierObj.predict(np.array([X1.ravel(), X2.ravel()]).T).reshape(X1.shape),\n",
    "#              alpha = 0.75, cmap = cmap)\n",
    "# plt.xlim(X1.min(), X1.max())\n",
    "# plt.ylim(X2.min(), X2.max())\n",
    "# colors = ['red', 'blue', 'brown']\n",
    "# for i, j in enumerate(np.unique(y_set)):\n",
    "#     plt.scatter(X_set[y_set == j, 0], X_set[y_set == j, 1], color = colors[i],\n",
    "#                 label = j, cmap = cmap)\n",
    "# plt.title('Logistic Regression (Training set)')\n",
    "# plt.xlabel('PC1')\n",
    "# plt.ylabel('PC2')\n",
    "# plt.legend()\n",
    "# plt.show()\n"
   ]
  },
  {
   "cell_type": "code",
   "execution_count": null,
   "id": "9eb2390d3612b8a",
   "metadata": {
    "ExecuteTime": {
     "end_time": "2025-04-17T01:40:52.571990Z",
     "start_time": "2025-04-17T01:40:52.540725Z"
    }
   },
   "outputs": [],
   "source": [
    "#Applying LDA\n",
    "from sklearn.discriminant_analysis import LinearDiscriminantAnalysis as LDA\n",
    "\n",
    "max_components = min(X_train_smote.shape[1], len(np.unique(y_train_smote)) - 1)\n",
    "ldaObj = LDA(n_components=max_components)\n",
    "X_train_lda = ldaObj.fit_transform(X_train_smote,y_train_smote)\n",
    "X_test = ldaObj.transform(X_test_smote)\n",
    "\n",
    "import matplotlib.pyplot as plt\n",
    "\n",
    "plt.figure(figsize=(10, 6))\n",
    "plt.scatter(X_train_lda, np.zeros_like(X_train_lda), c=y_train_smote, cmap='viridis', edgecolor='k')\n",
    "plt.title(\"LDA Transformed Training Data\")\n",
    "plt.xlabel(\"LDA Component\")\n",
    "plt.ylabel(\"Zero Line\")\n",
    "plt.colorbar(label='Class Label')\n",
    "plt.show()\n"
   ]
  },
  {
   "cell_type": "code",
   "execution_count": null,
   "id": "d150089b700726ff",
   "metadata": {
    "ExecuteTime": {
     "end_time": "2025-04-17T01:44:08.469161Z",
     "start_time": "2025-04-17T01:43:29.884169Z"
    }
   },
   "outputs": [],
   "source": [
    "from sklearn.decomposition import KernelPCA\n",
    "\n",
    "# Performing Kernel PCA\n",
    "kernel_pca = KernelPCA(n_components=25, kernel='rbf')\n",
    "X_train_kernel_pca = kernel_pca.fit_transform(X_train_smote)\n",
    "X_test_kernel_pca = kernel_pca.transform(X_test_smote)\n",
    "\n",
    "# Scatter plot of Kernel PCA transformed data\n",
    "plt.figure(figsize=(10, 6))\n",
    "plt.scatter(X_train_kernel_pca[:, 3], X_train_kernel_pca[:, 4], c=y_train_smote, cmap='viridis', edgecolor='k')\n",
    "plt.title(\"Kernel PCA Transformed Training Data\")\n",
    "plt.xlabel(\"Kernel PCA Component 1\")\n",
    "plt.ylabel(\"Kernel PCA Component 2\")\n",
    "plt.colorbar(label='Class Label')\n",
    "plt.show()\n"
   ]
  },
  {
   "cell_type": "code",
   "execution_count": null,
   "id": "a61643637a1a8fa0",
   "metadata": {},
   "outputs": [],
   "source": [
    "from sklearn.metrics import classification_report\n",
    "\n",
    "def modelclassificationreport(classifier, classifierName):\n",
    "    classifier.fit(X_train_smote, y_train_smote)\n",
    "    y_pred = classifier.predict(X_test_smote)\n",
    "    print(\"Classification Report for Classifier: {}, className: {}\".format(classifier, classifierName))\n",
    "    report = classification_report(y_test_smote, y_pred)\n",
    "    print(report)"
   ]
  },
  {
   "cell_type": "code",
   "execution_count": null,
   "id": "5eeeead1",
   "metadata": {},
   "outputs": [],
   "source": [
    "#logistic regression\n",
    "from sklearn.linear_model import LogisticRegression\n",
    "\n",
    "logistic_classifier = LogisticRegression(random_state=0)\n",
    "modelclassificationreport(logistic_classifier, \"Logistic Regression\")"
   ]
  },
  {
   "cell_type": "code",
   "execution_count": null,
   "id": "fc0af970",
   "metadata": {},
   "outputs": [],
   "source": [
    "from sklearn.ensemble import RandomForestClassifier\n",
    "modelclassificationreport(RandomForestClassifier(), \"RandomForestClassifier\")"
   ]
  },
  {
   "cell_type": "code",
   "execution_count": null,
   "id": "662552e9",
   "metadata": {},
   "outputs": [],
   "source": [
    "from sklearn.svm import SVC\n",
    "modelclassificationreport(SVC(kernel='rbf'), \"RBF SVM\")"
   ]
  },
  {
   "cell_type": "code",
   "execution_count": null,
   "id": "f492cad6",
   "metadata": {},
   "outputs": [],
   "source": [
    "from sklearn.svm import SVC\n",
    "modelclassificationreport(SVC(kernel='poly'), \"SVM with poly\")"
   ]
  },
  {
   "cell_type": "code",
   "execution_count": null,
   "id": "3abc6cff",
   "metadata": {},
   "outputs": [],
   "source": [
    "from sklearn.tree import DecisionTreeClassifier\n",
    "modelclassificationreport(DecisionTreeClassifier(criterion=\"entropy\"), \"DecisionTreeClassifier\")"
   ]
  },
  {
   "cell_type": "code",
   "execution_count": null,
   "id": "61a48f79",
   "metadata": {},
   "outputs": [],
   "source": [
    "from sklearn.naive_bayes import GaussianNB\n",
    "modelclassificationreport(GaussianNB(), \"GaussianNB\")"
   ]
  },
  {
   "cell_type": "code",
   "execution_count": null,
   "id": "f3501f33",
   "metadata": {},
   "outputs": [],
   "source": [
    "from sklearn.neighbors import KNeighborsClassifier\n",
    "from sklearn.metrics  import f1_score\n",
    "\n",
    "macro_f1_scores = []\n",
    "for k in range(1, 40):\n",
    "    classifierObj = KNeighborsClassifier(n_neighbors=k)\n",
    "    classifierObj.fit(X_train_smote, y_train_smote)\n",
    "    y_pred = classifierObj.predict(X_test_smote)\n",
    "    f1 = f1_score(y_test_smote, y_pred, average='macro')\n",
    "    macro_f1_scores.append(f1)\n",
    "\n",
    "plt.plot(range(1, 40, 1), macro_f1_scores, marker='o')\n",
    "plt.xlabel('k')\n",
    "plt.ylabel('F1 Score')\n",
    "plt.title('F1 Score vs k')\n",
    "plt.xticks(range(1, 40, 2))\n",
    "plt.grid(True)\n",
    "plt.show()\n",
    "\n",
    "best_k_index = np.argmax(macro_f1_scores) + 1\n",
    "print(f\"Best k: {best_k_index} at {macro_f1_scores[best_k_index-1]}\")\n",
    "\n",
    "classifierObj = KNeighborsClassifier(n_neighbors=38)\n",
    "classifierObj.fit(X_train_smote, y_train_smote)\n",
    "y_pred = classifierObj.predict(X_test_smote)\n",
    "f1 = f1_score(y_test_smote, y_pred, average='macro')\n",
    "print(f\"F1 Score: {f1}\")\n"
   ]
  },
  {
   "cell_type": "code",
   "execution_count": null,
   "id": "f88da597",
   "metadata": {},
   "outputs": [],
   "source": [
    "from sklearn.ensemble import VotingClassifier\n",
    "\n",
    "classifiers = [\n",
    "    ('RandomForestClassifier', RandomForestClassifier()),\n",
    "    ('DecisionTreeClassifier', DecisionTreeClassifier()),\n",
    "    ('LogisticRegression', LogisticRegression()),\n",
    "    ('KNN', KNeighborsClassifier(n_neighbors=10)),\n",
    "]\n",
    "\n",
    "votingClassifier = VotingClassifier(estimators=classifiers, voting='hard')\n",
    "modelclassificationreport(votingClassifier, \"VotingClassifier\")"
   ]
  },
  {
   "cell_type": "code",
   "execution_count": null,
   "id": "ca9a80e5",
   "metadata": {},
   "outputs": [],
   "source": [
    "rf = RandomForestClassifier()\n",
    "rf.fit(X_train_smote, y_train_smote)\n",
    "y_pred = rf.predict(X_test_smote)\n",
    "print(\"Random Forest Classifier Accuracy:\", rf.score(X_test_smote, y_test_smote))\n",
    "from sklearn.metrics import confusion_matrix, classification_report\n",
    "cm = confusion_matrix(y_test_smote, y_pred)\n",
    "print(\"Confusion Matrix:\") \n",
    "print(cm)\n",
    "\n",
    "print(\"Classification Report:\")\n",
    "print(classification_report(y_test_smote, y_pred))\n",
    "import matplotlib.pyplot as plt\n",
    "import seaborn as sns\n",
    "sns.heatmap(cm, annot=True, fmt='d', cmap='Blues')\n",
    "plt.title(\"Confusion Matrix\")\n",
    "plt.xlabel(\"Predicted\")\n",
    "plt.ylabel(\"Actual\")\n",
    "plt.show()\n",
    "\n",
    "# Feature Importance\n",
    "feature_importances = rf.feature_importances_\n",
    "indices = np.argsort(feature_importances)[::-1]\n",
    "print(\"Feature ranking:\")\n",
    "for f in range(X_train_smote.shape[1]):\n",
    "    print(\"%d. feature %d (%f)\" % (f + 1, indices[f], feature_importances[indices[f]]))\n"
   ]
  },
  {
   "cell_type": "code",
   "execution_count": null,
   "id": "6b140f47",
   "metadata": {},
   "outputs": [],
   "source": [
    "category_col = data.select_dtypes(include='object').columns \n",
    "\n",
    "plt.figure(figsize=(10,6)) \n",
    "for col in category_col:\n",
    "    sns.countplot(x=col,data=data,palette='magma')\n",
    "    plt.ylabel('Frequency')\n",
    "    plt.title(f'The distribution of {col}')\n",
    "    plt.legend()\n",
    "    plt.show()"
   ]
  },
  {
   "cell_type": "code",
   "execution_count": null,
   "id": "e27034af",
   "metadata": {},
   "outputs": [],
   "source": []
  },
  {
   "cell_type": "code",
   "execution_count": null,
   "id": "78b62f18",
   "metadata": {},
   "outputs": [],
   "source": []
  }
 ],
 "metadata": {
  "kernelspec": {
   "display_name": "Python 3",
   "language": "python",
   "name": "python3"
  },
  "language_info": {
   "codemirror_mode": {
    "name": "ipython",
    "version": 3
   },
   "file_extension": ".py",
   "mimetype": "text/x-python",
   "name": "python",
   "nbconvert_exporter": "python",
   "pygments_lexer": "ipython3",
   "version": "3.12.3"
  }
 },
 "nbformat": 4,
 "nbformat_minor": 5
}
